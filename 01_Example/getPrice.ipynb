{
 "cells": [
  {
   "cell_type": "code",
   "execution_count": null,
   "metadata": {
    "collapsed": true
   },
   "outputs": [],
   "source": [
    "# ref https://www.bithumb.com/u1/US127\n",
    "# ref https://poloniex.com/exchange#btc_eth"
   ]
  },
  {
   "cell_type": "code",
   "execution_count": 1,
   "metadata": {
    "collapsed": true
   },
   "outputs": [],
   "source": [
    "import time\n",
    "import json\n",
    "import urllib.request\n",
    "from urllib.request import Request, urlopen"
   ]
  },
  {
   "cell_type": "code",
   "execution_count": 3,
   "metadata": {},
   "outputs": [
    {
     "name": "stdout",
     "output_type": "stream",
     "text": [
      "3053000\n",
      "3049000\n",
      "3049000\n",
      "3046000\n",
      "3046000\n",
      "3041000\n",
      "3041000\n",
      "3041000\n",
      "3041000\n",
      "3041000\n"
     ]
    }
   ],
   "source": [
    "for i in range(10):\n",
    "    urlTicker = urllib.request.urlopen('https://api.bithumb.com/public/ticker/all')\n",
    "    readTicker = urlTicker.read()\n",
    "    jsonTicker = json.loads(readTicker)\n",
    "    FindBTC = jsonTicker['data']['BTC']['closing_price']\n",
    "    print(FindBTC)\n",
    "    time.sleep(5)"
   ]
  }
 ],
 "metadata": {
  "kernelspec": {
   "display_name": "Python 3",
   "language": "python",
   "name": "python3"
  },
  "language_info": {
   "codemirror_mode": {
    "name": "ipython",
    "version": 3
   },
   "file_extension": ".py",
   "mimetype": "text/x-python",
   "name": "python",
   "nbconvert_exporter": "python",
   "pygments_lexer": "ipython3",
   "version": "3.6.1"
  }
 },
 "nbformat": 4,
 "nbformat_minor": 2
}
